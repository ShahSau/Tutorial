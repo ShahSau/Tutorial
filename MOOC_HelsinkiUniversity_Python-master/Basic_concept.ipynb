{
 "cells": [
  {
   "cell_type": "code",
   "execution_count": 1,
   "metadata": {},
   "outputs": [
    {
     "name": "stdout",
     "output_type": "stream",
     "text": [
      "hello world\n"
     ]
    }
   ],
   "source": [
    "print('hello world')"
   ]
  },
  {
   "cell_type": "code",
   "execution_count": 2,
   "metadata": {},
   "outputs": [
    {
     "name": "stdout",
     "output_type": "stream",
     "text": [
      "1 plus 1 is 2\n"
     ]
    }
   ],
   "source": [
    "print( 1 ,'plus', 1, 'is', 1+1)"
   ]
  },
  {
   "cell_type": "code",
   "execution_count": 3,
   "metadata": {},
   "outputs": [
    {
     "name": "stdout",
     "output_type": "stream",
     "text": [
      "your name is:ggg\n",
      "ggg\n"
     ]
    }
   ],
   "source": [
    "name= input('your name is: ')\n",
    "print(name)"
   ]
  },
  {
   "cell_type": "code",
   "execution_count": 4,
   "metadata": {},
   "outputs": [
    {
     "name": "stdout",
     "output_type": "stream",
     "text": [
      "what country are you from:hhhh\n",
      "i heard hhhh is a beautiful place\n"
     ]
    }
   ],
   "source": [
    "country= input('what country are you from: ')\n",
    "print('i heard ' + country+ ' is a beautiful place')"
   ]
  },
  {
   "cell_type": "code",
   "execution_count": 5,
   "metadata": {},
   "outputs": [
    {
     "name": "stdout",
     "output_type": "stream",
     "text": [
      "4 multipled by 0 is equal to 0\n",
      "4 multipled by 1 is equal to 4\n",
      "4 multipled by 2 is equal to 8\n",
      "4 multipled by 3 is equal to 12\n",
      "4 multipled by 4 is equal to 16\n",
      "4 multipled by 5 is equal to 20\n",
      "4 multipled by 6 is equal to 24\n",
      "4 multipled by 7 is equal to 28\n",
      "4 multipled by 8 is equal to 32\n",
      "4 multipled by 9 is equal to 36\n",
      "4 multipled by 10 is equal to 40\n"
     ]
    }
   ],
   "source": [
    "for i in range(0,11):\n",
    "    print('4 multipled by '+ str(i) + ' is equal to '+ str(i*4))"
   ]
  },
  {
   "cell_type": "code",
   "execution_count": 6,
   "metadata": {},
   "outputs": [
    {
     "name": "stdout",
     "output_type": "stream",
     "text": [
      "1 5\n",
      "1 6\n",
      "2 4\n",
      "2 5\n",
      "2 6\n",
      "3 3\n",
      "3 4\n",
      "3 5\n",
      "3 6\n",
      "4 2\n",
      "4 3\n",
      "4 4\n",
      "4 5\n",
      "4 6\n",
      "5 1\n",
      "5 2\n",
      "5 3\n",
      "5 4\n",
      "5 5\n",
      "5 6\n",
      "6 1\n",
      "6 2\n",
      "6 3\n",
      "6 4\n",
      "6 5\n",
      "6 6\n"
     ]
    }
   ],
   "source": [
    "\"\"\"\n",
    "Let us consider throwing two dice. (A dice can give a value between 1 and 6.) \n",
    "Use two nested for loops in the main function to iterate through all possible combinations the pair of dice can give.\n",
    "There are 36 possible combinations. Print all those combinations as (ordered) pairs that sum to 5. \n",
    "For example, your printout should include the pair (2,3). Print one pair per line.\n",
    "\"\"\"\n",
    "\n",
    "for i in range(1,7):\n",
    "    for j in range(1,7):\n",
    "        if i+j>5:\n",
    "            print(i,j)"
   ]
  },
  {
   "cell_type": "code",
   "execution_count": 7,
   "metadata": {},
   "outputs": [
    {
     "name": "stdout",
     "output_type": "stream",
     "text": [
      "water plus melon makes watermelon\n"
     ]
    }
   ],
   "source": [
    "print(\"{0} plus {1} makes {0}{1}\".format(\"water\", \"melon\"))"
   ]
  },
  {
   "cell_type": "code",
   "execution_count": 8,
   "metadata": {},
   "outputs": [
    {
     "name": "stdout",
     "output_type": "stream",
     "text": [
      "triple (1) == 3 and square (1) == 1\n",
      "triple (2) == 6 and square (2) == 4\n",
      "triple (3) == 9 and square (3) == 9\n",
      "triple (4) == 12 and square (4) == 16\n",
      "triple (5) == 15 and square (5) == 25\n",
      "triple (6) == 18 and square (6) == 36\n",
      "triple (7) == 21 and square (7) == 49\n",
      "triple (8) == 24 and square (8) == 64\n",
      "triple (9) == 27 and square (9) == 81\n",
      "triple (10) == 30 and square (10) == 100\n"
     ]
    }
   ],
   "source": [
    "\"\"\"\n",
    "In the main function write a for loop that iterates through values 1 to 10, and for each value prints its triple and its square.\n",
    "The output should be as follows:\n",
    "\"\"\"\n",
    "def tripple(x):\n",
    "    return x*3\n",
    "def square (x):\n",
    "    return x**2\n",
    "for i in range (1,11):\n",
    "    tripple(i)\n",
    "    square(i)\n",
    "    print(\"triple (\"+ str(i) +\") == \"+ str(tripple(i)) + \" and square (\"+ str(i) +\") == \"+ str(square(i)))"
   ]
  },
  {
   "cell_type": "code",
   "execution_count": 32,
   "metadata": {},
   "outputs": [
    {
     "name": "stdout",
     "output_type": "stream",
     "text": [
      "Choose a shape (Triangle, Rectangle, Circle): circle\n",
      "Give base of the Circle:33\n",
      "Give height of the Circle:33\n",
      "The area is 3421.2024\n"
     ]
    }
   ],
   "source": [
    "\"\"\"\n",
    "An endless loop should ask for which shape you want the area be calculated. \n",
    "An empty string as input will exit the loop. If the user gives a string that is none of the given shapes, the message “unknown shape!” should be printed. \n",
    "It will ask for dimensions for that particular shape. When all the necessary dimensions are given, it prints the area.\n",
    "\"\"\"\n",
    "x=input(\"Choose a shape (triangle, rectangle, circle): \")\n",
    "y=int(input(\"Give base of the \"+ x+ \" :\"))\n",
    "z=int(input(\"Give height of the \"+ x+\" :\"))\n",
    "if x==\"circle\":\n",
    "    print(\"The area is \"+ str(3.1416*(y**2)))\n",
    "elif x==\"rectangle\":\n",
    "    print(\"The area is \"+ str(y*z))\n",
    "elif x==\"triangle\":\n",
    "    print(\"The area is \"+ str((y*z)/2))\n",
    "else:\n",
    "    print(\"Unknown shape!\")\n",
    "\n",
    "    "
   ]
  },
  {
   "cell_type": "code",
   "execution_count": 10,
   "metadata": {},
   "outputs": [
    {
     "name": "stdout",
     "output_type": "stream",
     "text": [
      "-1.0 -1.0\n"
     ]
    }
   ],
   "source": [
    "import math as math\n",
    "def solve_quadratic(a,b,c):\n",
    "    x1= (-b + math.sqrt((b**2)-4*a*c))/(2*a)\n",
    "    x2= (-b - math.sqrt((b**2)-4*a*c))/(2*a)\n",
    "    print(x1,x2)\n",
    "\n",
    "solve_quadratic(1,2,1)"
   ]
  },
  {
   "cell_type": "code",
   "execution_count": 11,
   "metadata": {},
   "outputs": [
    {
     "name": "stdout",
     "output_type": "stream",
     "text": [
      "[1, 3, 5, 7, 9, 2, 4, 6, 8, 10]\n"
     ]
    }
   ],
   "source": [
    "\"\"\"\n",
    "Merging two list into one\n",
    "\"\"\"\n",
    "odd= [1,3,5,7,9]\n",
    "even=[2,4,6,8,10]\n",
    "num=(odd+even)\n",
    "print(num)\n",
    "\n"
   ]
  },
  {
   "cell_type": "code",
   "execution_count": 12,
   "metadata": {},
   "outputs": [
    {
     "name": "stdout",
     "output_type": "stream",
     "text": [
      "[(1, 'first'), (2, 'second'), (3, 'third')]\n"
     ]
    }
   ],
   "source": [
    "L1=[1,2,3]\n",
    "L2=[\"first\", \"second\", \"third\"]\n",
    "z=zip(L1, L2)\n",
    "print(list(z))\n"
   ]
  },
  {
   "cell_type": "code",
   "execution_count": 13,
   "metadata": {},
   "outputs": [
    {
     "name": "stdout",
     "output_type": "stream",
     "text": [
      "[1, 2, 3, 'first', 'second', 'third']\n"
     ]
    }
   ],
   "source": [
    "L1=[1,2,3]\n",
    "L2=[\"first\", \"second\", \"third\"]\n",
    "L1.extend(L2)\n",
    "print(L1)"
   ]
  },
  {
   "cell_type": "code",
   "execution_count": 14,
   "metadata": {},
   "outputs": [
    {
     "name": "stdout",
     "output_type": "stream",
     "text": [
      "[1, 20, 'a', 2, 30, 'b', 3, 40, 'c']\n"
     ]
    }
   ],
   "source": [
    "\"\"\"\n",
    "interleave([1,2,3], [20,30,40], ['a', 'b', 'c']) should return [1, 20, 'a', 2, 30, 'b', 3, 40, 'c'].\n",
    "\"\"\"\n",
    "\n",
    "def interleave(x,y,z):\n",
    "    k=list(zip(x,y,z))\n",
    "    k1=list(k[0])\n",
    "    k2=list(k[1])\n",
    "    k3=list(k[2])\n",
    "    k1.extend(k2)\n",
    "    k1.extend(k3)\n",
    "    print(k1)\n",
    "interleave([1,2,3], [20,30,40], ['a', 'b', 'c'])"
   ]
  },
  {
   "cell_type": "code",
   "execution_count": 15,
   "metadata": {},
   "outputs": [
    {
     "name": "stdout",
     "output_type": "stream",
     "text": [
      "{'check': 4, 'look': 3, 'try': 3, 'pop': 2}\n"
     ]
    }
   ],
   "source": [
    "\"\"\"\n",
    "Use the set container to temporarily store the distinct characters in a string. \n",
    "Example of usage: distinct_characters([\"check\", \"look\", \"try\", \"pop\"]) should return { \"check\" : 4, \"look\" : 3, \"try\" : 3, \"pop\" : 2}.\n",
    "\"\"\"\n",
    "\n",
    "def distinct_characters(a):\n",
    "    s1=len(set(a[0]))\n",
    "    s2=len(set(a[1]))\n",
    "    s3=len(set(a[2]))\n",
    "    s4=len(set(a[3]))\n",
    "    #print(s1,s2,s3,s4)\n",
    "    d={}\n",
    "    d[a[0]]=s1\n",
    "    d[a[1]]=s2\n",
    "    d[a[2]]=s3\n",
    "    d[a[3]]=s4\n",
    "    print(d)\n",
    "distinct_characters([\"check\", \"look\", \"try\", \"pop\"])\n"
   ]
  },
  {
   "cell_type": "code",
   "execution_count": 16,
   "metadata": {},
   "outputs": [
    {
     "name": "stdout",
     "output_type": "stream",
     "text": [
      "[12, 13, 14, 15, 16, 17, 18, 19, 23, 24, 25, 26, 27, 28, 29, 34, 35, 36, 37, 38, 39, 45, 46, 47, 48, 49, 56, 57, 58, 59, 67, 68, 69, 78, 79, 89, 123, 124, 125, 126, 127, 128, 129, 134, 135, 136, 137, 138, 139, 145, 146, 147, 148, 149, 156, 157, 158, 159, 167, 168, 169, 178, 179, 189, 234, 235, 236, 237, 238, 239, 245, 246, 247, 248, 249, 256, 257, 258, 259, 267, 268, 269, 278, 279, 289, 345, 346, 347, 348, 349, 356, 357, 358, 359, 367, 368, 369, 378, 379, 389, 456, 457, 458, 459, 467, 468, 469, 478, 479, 489, 567, 568, 569, 578, 579, 589, 678, 679, 689, 789]\n"
     ]
    }
   ],
   "source": [
    "L=[ 100*a + 10*b +c for a in range(0,10)\n",
    "                    for b in range(0,10)\n",
    "                    for c in range(0,10)\n",
    "                    if a < b < c]\n",
    "print(L)"
   ]
  },
  {
   "cell_type": "code",
   "execution_count": 17,
   "metadata": {},
   "outputs": [
    {
     "name": "stdout",
     "output_type": "stream",
     "text": [
      "{101: 81, 102: 81, 103: 81, 104: 81, 105: 81, 106: 81, 107: 81, 108: 81, 109: 81}\n"
     ]
    }
   ],
   "source": [
    "d={ y : k**2 for k in range(10)\n",
    "              for y in range(101,110)}\n",
    "print(d)"
   ]
  },
  {
   "cell_type": "code",
   "execution_count": 18,
   "metadata": {},
   "outputs": [
    {
     "name": "stdout",
     "output_type": "stream",
     "text": [
      "[[1, 5], [1, 6], [2, 4], [2, 5], [2, 6], [3, 3], [3, 4], [3, 5], [3, 6], [4, 2], [4, 3], [4, 4], [4, 5], [4, 6], [5, 1], [5, 2], [5, 3], [5, 4], [5, 5], [5, 6], [6, 1], [6, 2], [6, 3], [6, 4], [6, 5], [6, 6]]\n"
     ]
    }
   ],
   "source": [
    "\"\"\"\n",
    "Redo the earlier exercise which printed all the pairs of two dice results that sum to 5. \n",
    "But this time use a list comprehension\n",
    "\"\"\"\n",
    "l=[[x,y] for x in range(1,7)\n",
    "       for y in range(1,7)\n",
    "        if x+y>5]\n",
    "print(l)"
   ]
  },
  {
   "cell_type": "code",
   "execution_count": 19,
   "metadata": {},
   "outputs": [
    {
     "name": "stdout",
     "output_type": "stream",
     "text": [
      "[2, 30, -3]\n"
     ]
    }
   ],
   "source": [
    "\"\"\"\n",
    "Write a function transform that gets two strings as parameters and returns a list of integers. \n",
    "The function should split the strings into words, and convert these words to integers. \n",
    "This should give two lists of integers. Then the function should return a list whose elements are multiplication of two integers in the respective positions in the lists. \n",
    "For example transform(\"1 5 3\", \"2 6 -1\") should return the list of integers [2, 30, -3].\n",
    "\"\"\"\n",
    "\n",
    "def transform(x,y):\n",
    "    xt=x.split(\" \")\n",
    "    yt=y.split(\" \")\n",
    "    x1=int(xt[0])\n",
    "    x2=int(xt[1])\n",
    "    x3=int(xt[2])\n",
    "    y1=int(yt[0])\n",
    "    y2=int(yt[1])\n",
    "    y3=int(yt[2])\n",
    "    z1=x1*y1\n",
    "    z2=x2*y2\n",
    "    z3=x3*y3\n",
    "    print([z1,z2,z3])\n",
    "transform(\"1 5 3\", \"2 6 -1\")"
   ]
  },
  {
   "cell_type": "code",
   "execution_count": 20,
   "metadata": {},
   "outputs": [
    {
     "name": "stdout",
     "output_type": "stream",
     "text": [
      "[2, 1]\n"
     ]
    }
   ],
   "source": [
    "\"\"\"\n",
    "Write a function positive_list that gets a list of numbers as a parameter, and returns a list with the negative numbers and zero filtered out using the filter function.\n",
    "\n",
    "The function call positive_list([2,-2,0,1,-7]) should return the list [2,1]. \n",
    "\"\"\"\n",
    "def positive_list(x):\n",
    "    def greater(x):\n",
    "        return x>0\n",
    "    print(list(filter(greater,x)))\n",
    "    \n",
    "positive_list([2,-2,0,1,-7])"
   ]
  },
  {
   "cell_type": "code",
   "execution_count": 21,
   "metadata": {},
   "outputs": [
    {
     "name": "stdout",
     "output_type": "stream",
     "text": [
      "EU\n",
      "(GDPR),\n",
      "(IBM\n",
      "IBM\n",
      "(EEA))\n",
      "EEA,\n",
      "IBM\n",
      "PO\n",
      "PO6\n",
      "3AU.\n"
     ]
    }
   ],
   "source": [
    "\"\"\"Write function acronyms which takes a string as a parameter and returns a list of acronyms. A word is an acronym if it has length at least two, and all its characters are in uppercase. \"\"\"\n",
    "def acronyms(str):\n",
    "    string=str.split()\n",
    "    for a in string:\n",
    "        count=0\n",
    "        if(a.isupper())==True:\n",
    "            count+=1\n",
    "            if count==2:\n",
    "                break\n",
    "            print(a)\n",
    "acronyms(\"For the purposes of the EU General Data Protection Regulation (GDPR), the controller of your personal information is International Business Machines Corporation (IBM Corp.), 1 New Orchard Road, Armonk, New York, United States, unless indicated otherwise. Where IBM Corp. or a subsidiary it controls (not established in the European Economic Area (EEA)) is required to appoint a legal representative in the EEA, the representative for all such cases is IBM United Kingdom Limited, PO Box 41, North Harbour, Portsmouth, Hampshire, United Kingdom PO6 3AU.\")"
   ]
  },
  {
   "cell_type": "code",
   "execution_count": 22,
   "metadata": {},
   "outputs": [
    {
     "name": "stdout",
     "output_type": "stream",
     "text": [
      "1+5+7 =13\n"
     ]
    }
   ],
   "source": [
    "def sum_equation(x):\n",
    "    y1=x[0]\n",
    "    y2=x[1]\n",
    "    y3=x[2]\n",
    "    y=y1+y2+y3\n",
    "    print(str(x[0])+\"+\"+ str(x[1])+\"+\"+str(x[2])+\" =\"+str(y))\n",
    "sum_equation([1,5,7])"
   ]
  },
  {
   "cell_type": "code",
   "execution_count": 23,
   "metadata": {},
   "outputs": [],
   "source": [
    "\"\"\"\n",
    "class and object\n",
    "\"\"\"\n",
    "class Robot:\n",
    "    def __init__(self,name,age,color):\n",
    "        self.name=name\n",
    "        self.age=age\n",
    "        self.color=color\n",
    "    def introduce(self):\n",
    "        print(\"hi, my name is \"+ self.name)\n",
    "        \n"
   ]
  },
  {
   "cell_type": "code",
   "execution_count": 24,
   "metadata": {},
   "outputs": [
    {
     "name": "stdout",
     "output_type": "stream",
     "text": [
      "2\n"
     ]
    }
   ],
   "source": [
    "r1 = Robot(\"AA\",5,\"Red\")\n",
    "r2=Robot(\"BB\",2,\"Blue\")\n",
    "print(r2.age)"
   ]
  },
  {
   "cell_type": "code",
   "execution_count": 25,
   "metadata": {},
   "outputs": [
    {
     "name": "stdout",
     "output_type": "stream",
     "text": [
      "+++ Hello\n"
     ]
    }
   ],
   "source": [
    "\"\"\"\n",
    "Create a class called Prepend. We create an instance of the class by giving a string as a parameter to the initializer. \n",
    "The initializer stores the parameter in an instance attribute start. The class also has a method write(s) which prints the string s prepended with the start string.\n",
    "\"\"\"\n",
    "class Prepend:\n",
    "    def __init__(self,string):\n",
    "        self.start=string\n",
    "    def write(self,word): \n",
    "        self.word=word\n",
    "        print(self.start + word)\n",
    "\n",
    "p = Prepend(\"+++ \")\n",
    "p.write(\"Hello\");"
   ]
  },
  {
   "cell_type": "code",
   "execution_count": 26,
   "metadata": {},
   "outputs": [
    {
     "name": "stdout",
     "output_type": "stream",
     "text": [
      "hi, my name is BB\n"
     ]
    }
   ],
   "source": [
    "\"\"\"\n",
    "creating new user and connectin it to Robot class\n",
    "\"\"\"\n",
    "class User:\n",
    "    def __init__(self,fn,ln,a,g,l):\n",
    "        self.firstName = fn\n",
    "        self.lastName = ln\n",
    "        self.age = a\n",
    "        self.gender = g\n",
    "        self.has_robot = l\n",
    "    \n",
    "    def info(self,number):\n",
    "        print(\"hi, I am \"+ self.lastName +\", \"+ self.firstName)\n",
    "\n",
    "p= User(\"AA\",\"BB\", 33, \"Male\", r2)\n",
    "p.has_robot.introduce()"
   ]
  },
  {
   "cell_type": "code",
   "execution_count": 27,
   "metadata": {},
   "outputs": [
    {
     "name": "stdout",
     "output_type": "stream",
     "text": [
      "\\tTab\n"
     ]
    }
   ],
   "source": [
    "import re\n",
    "print(r'\\tTab')"
   ]
  },
  {
   "cell_type": "code",
   "execution_count": 28,
   "metadata": {},
   "outputs": [
    {
     "name": "stdout",
     "output_type": "stream",
     "text": [
      "<re.Match object; span=(1, 21), match='AcccBVaaaa@gmail.com'>\n",
      "<re.Match object; span=(22, 50), match='Cbnnb.Bbfbfbf@university.edu'>\n",
      "<re.Match object; span=(51, 78), match='Gjjhd-321-ghggf@my-work.net'>\n"
     ]
    }
   ],
   "source": [
    "\"\"\"\n",
    "Regular Expression\n",
    "\"\"\"\n",
    "emails='''\n",
    "AcccBVaaaa@gmail.com\n",
    "Cbnnb.Bbfbfbf@university.edu\n",
    "Gjjhd-321-ghggf@my-work.net\n",
    "'''\n",
    "import re\n",
    "\n",
    "pattern= re.compile(r'[a-zA-z0-9.-]+@[a-z-]+\\.(com|net|edu)')\n",
    "matches=pattern.finditer(emails)\n",
    "\n",
    "for i in matches:\n",
    "    print(i)\n",
    "                    "
   ]
  },
  {
   "cell_type": "code",
   "execution_count": 29,
   "metadata": {},
   "outputs": [
    {
     "name": "stdout",
     "output_type": "stream",
     "text": [
      ".com\n",
      ".com\n",
      ".com\n",
      ".gov\n"
     ]
    }
   ],
   "source": [
    "\"\"\"\n",
    "grouping in RE\"\"\"\n",
    "urls= '''\n",
    "https://www.google.com\n",
    "http://facebook.com\n",
    "https://www.gyoyutube.com\n",
    "https://www.nasa.gov\n",
    "'''\n",
    "import re\n",
    "pattern= re.compile(r'https?://(www\\.)?(\\w+)(\\.\\w+)')\n",
    "matches=pattern.finditer(urls)\n",
    "\n",
    "for i in matches:\n",
    "    domain=i.group(3)\n",
    "    print(domain)"
   ]
  },
  {
   "cell_type": "code",
   "execution_count": null,
   "metadata": {},
   "outputs": [],
   "source": []
  },
  {
   "cell_type": "code",
   "execution_count": null,
   "metadata": {},
   "outputs": [],
   "source": []
  },
  {
   "cell_type": "code",
   "execution_count": null,
   "metadata": {},
   "outputs": [],
   "source": []
  },
  {
   "cell_type": "code",
   "execution_count": null,
   "metadata": {},
   "outputs": [],
   "source": []
  },
  {
   "cell_type": "code",
   "execution_count": null,
   "metadata": {},
   "outputs": [],
   "source": []
  },
  {
   "cell_type": "code",
   "execution_count": null,
   "metadata": {},
   "outputs": [],
   "source": []
  },
  {
   "cell_type": "code",
   "execution_count": null,
   "metadata": {},
   "outputs": [],
   "source": []
  }
 ],
 "metadata": {
  "kernelspec": {
   "display_name": "Python 3",
   "language": "python",
   "name": "python3"
  },
  "language_info": {
   "codemirror_mode": {
    "name": "ipython",
    "version": 3
   },
   "file_extension": ".py",
   "mimetype": "text/x-python",
   "name": "python",
   "nbconvert_exporter": "python",
   "pygments_lexer": "ipython3",
   "version": "3.7.3"
  }
 },
 "nbformat": 4,
 "nbformat_minor": 2
}
